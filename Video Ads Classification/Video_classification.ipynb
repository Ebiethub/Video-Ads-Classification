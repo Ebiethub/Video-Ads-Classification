{
 "cells": [
  {
   "cell_type": "code",
   "execution_count": 1,
   "metadata": {
    "id": "VAr_tESTtE6s"
   },
   "outputs": [],
   "source": [
    "import pandas as pd\n",
    "import nltk\n",
    "#nltk.download()\n",
    "from nltk.corpus import stopwords\n",
    "import re\n",
    "import string\n",
    "from nltk.tokenize import word_tokenize\n",
    "from nltk.corpus import stopwords\n",
    "from nltk.stem.wordnet import WordNetLemmatizer\n",
    "import matplotlib.pyplot as plt"
   ]
  },
  {
   "cell_type": "code",
   "execution_count": 2,
   "metadata": {
    "colab": {
     "base_uri": "https://localhost:8080/",
     "height": 363
    },
    "id": "TLnNDdITxcd7",
    "outputId": "aa80ac0f-6aeb-4ca5-a789-183867d92d34"
   },
   "outputs": [
    {
     "data": {
      "text/html": [
       "<div>\n",
       "<style scoped>\n",
       "    .dataframe tbody tr th:only-of-type {\n",
       "        vertical-align: middle;\n",
       "    }\n",
       "\n",
       "    .dataframe tbody tr th {\n",
       "        vertical-align: top;\n",
       "    }\n",
       "\n",
       "    .dataframe thead th {\n",
       "        text-align: right;\n",
       "    }\n",
       "</style>\n",
       "<table border=\"1\" class=\"dataframe\">\n",
       "  <thead>\n",
       "    <tr style=\"text-align: right;\">\n",
       "      <th></th>\n",
       "      <th>Unnamed: 0</th>\n",
       "      <th>Video Id</th>\n",
       "      <th>Title</th>\n",
       "      <th>Description</th>\n",
       "      <th>Category</th>\n",
       "    </tr>\n",
       "  </thead>\n",
       "  <tbody>\n",
       "    <tr>\n",
       "      <th>0</th>\n",
       "      <td>0</td>\n",
       "      <td>ehmsJLZlCZ0</td>\n",
       "      <td>Ep 1| Travelling through North East India | Of...</td>\n",
       "      <td>The journey to Arunachal, North East India beg...</td>\n",
       "      <td>travel</td>\n",
       "    </tr>\n",
       "    <tr>\n",
       "      <th>1</th>\n",
       "      <td>1</td>\n",
       "      <td>e2NQE41J5eM</td>\n",
       "      <td>How do I travel so much ! How do I earn money!!</td>\n",
       "      <td>SUBSCRIBE - https://goo.gl/dEtSMJ ('MountainTr...</td>\n",
       "      <td>travel</td>\n",
       "    </tr>\n",
       "    <tr>\n",
       "      <th>2</th>\n",
       "      <td>2</td>\n",
       "      <td>i9E_Blai8vk</td>\n",
       "      <td>TRAVEL VLOG ∙ Welcome to Bali | PRISCILLA LEE</td>\n",
       "      <td>I had the chance to fly out to Bali with my wh...</td>\n",
       "      <td>travel</td>\n",
       "    </tr>\n",
       "    <tr>\n",
       "      <th>3</th>\n",
       "      <td>3</td>\n",
       "      <td>#NAME?</td>\n",
       "      <td>GOA TRAVEL DIARY | FOUR DAYS IN GOA | TRAVEL O...</td>\n",
       "      <td>Hope you enjoy MY GOA TRAVEL DIARY this video!...</td>\n",
       "      <td>travel</td>\n",
       "    </tr>\n",
       "    <tr>\n",
       "      <th>4</th>\n",
       "      <td>4</td>\n",
       "      <td>7ByoBJYXU0k</td>\n",
       "      <td>5 Steps to Becoming a Travel Blogger</td>\n",
       "      <td>Travel blogger, Nikki Vargas, of The Pin the M...</td>\n",
       "      <td>travel</td>\n",
       "    </tr>\n",
       "    <tr>\n",
       "      <th>5</th>\n",
       "      <td>5</td>\n",
       "      <td>yvn79Rv0F48</td>\n",
       "      <td>Backpacking In Meghalaya | NorthEast India Tri...</td>\n",
       "      <td>In this video I explored North East India, sta...</td>\n",
       "      <td>travel</td>\n",
       "    </tr>\n",
       "    <tr>\n",
       "      <th>6</th>\n",
       "      <td>6</td>\n",
       "      <td>SL_YBLWdZb8</td>\n",
       "      <td>Welcome to Peru! | Best Essential Tips &amp;amp; T...</td>\n",
       "      <td>Welcome to Peru! This essential travel guide w...</td>\n",
       "      <td>travel</td>\n",
       "    </tr>\n",
       "    <tr>\n",
       "      <th>7</th>\n",
       "      <td>7</td>\n",
       "      <td>kiNyRY5s7n8</td>\n",
       "      <td>How to Start a Travel Blog [2019] Travel Blogg...</td>\n",
       "      <td>Create a Travel Blog Website for Just $3.95 + ...</td>\n",
       "      <td>travel</td>\n",
       "    </tr>\n",
       "    <tr>\n",
       "      <th>8</th>\n",
       "      <td>8</td>\n",
       "      <td>kY41XgTEEQU</td>\n",
       "      <td>A Day with KSRTC Bus Fans - Aanavandi Travel B...</td>\n",
       "      <td>ആനവണ്ടി ഭ്രാന്തൻമാരോടൊപ്പം കുമളിയിൽ ഒരു ദിവസം ...</td>\n",
       "      <td>travel</td>\n",
       "    </tr>\n",
       "    <tr>\n",
       "      <th>9</th>\n",
       "      <td>9</td>\n",
       "      <td>7mIzRYh8jGA</td>\n",
       "      <td>What is it like to travel in PAKISTAN?</td>\n",
       "      <td>Subscribe now: https://goo.gl/6zXZGK Watch the...</td>\n",
       "      <td>travel</td>\n",
       "    </tr>\n",
       "  </tbody>\n",
       "</table>\n",
       "</div>"
      ],
      "text/plain": [
       "   Unnamed: 0     Video Id                                              Title  \\\n",
       "0           0  ehmsJLZlCZ0  Ep 1| Travelling through North East India | Of...   \n",
       "1           1  e2NQE41J5eM    How do I travel so much ! How do I earn money!!   \n",
       "2           2  i9E_Blai8vk      TRAVEL VLOG ∙ Welcome to Bali | PRISCILLA LEE   \n",
       "3           3       #NAME?  GOA TRAVEL DIARY | FOUR DAYS IN GOA | TRAVEL O...   \n",
       "4           4  7ByoBJYXU0k               5 Steps to Becoming a Travel Blogger   \n",
       "5           5  yvn79Rv0F48  Backpacking In Meghalaya | NorthEast India Tri...   \n",
       "6           6  SL_YBLWdZb8  Welcome to Peru! | Best Essential Tips &amp; T...   \n",
       "7           7  kiNyRY5s7n8  How to Start a Travel Blog [2019] Travel Blogg...   \n",
       "8           8  kY41XgTEEQU  A Day with KSRTC Bus Fans - Aanavandi Travel B...   \n",
       "9           9  7mIzRYh8jGA             What is it like to travel in PAKISTAN?   \n",
       "\n",
       "                                         Description Category  \n",
       "0  The journey to Arunachal, North East India beg...   travel  \n",
       "1  SUBSCRIBE - https://goo.gl/dEtSMJ ('MountainTr...   travel  \n",
       "2  I had the chance to fly out to Bali with my wh...   travel  \n",
       "3  Hope you enjoy MY GOA TRAVEL DIARY this video!...   travel  \n",
       "4  Travel blogger, Nikki Vargas, of The Pin the M...   travel  \n",
       "5  In this video I explored North East India, sta...   travel  \n",
       "6  Welcome to Peru! This essential travel guide w...   travel  \n",
       "7  Create a Travel Blog Website for Just $3.95 + ...   travel  \n",
       "8  ആനവണ്ടി ഭ്രാന്തൻമാരോടൊപ്പം കുമളിയിൽ ഒരു ദിവസം ...   travel  \n",
       "9  Subscribe now: https://goo.gl/6zXZGK Watch the...   travel  "
      ]
     },
     "execution_count": 2,
     "metadata": {},
     "output_type": "execute_result"
    }
   ],
   "source": [
    "# Import Data\n",
    "vdata = pd.read_csv('Videos_data.csv')\n",
    "vdata.head(10)"
   ]
  },
  {
   "cell_type": "code",
   "execution_count": 3,
   "metadata": {
    "colab": {
     "base_uri": "https://localhost:8080/"
    },
    "id": "XzPTWa5uxzav",
    "outputId": "bbeeee59-6c41-4741-d6fb-fc96fc41f635"
   },
   "outputs": [
    {
     "data": {
      "text/plain": [
       "Video Id         0\n",
       "Title            0\n",
       "Description    334\n",
       "Category         0\n",
       "dtype: int64"
      ]
     },
     "execution_count": 3,
     "metadata": {},
     "output_type": "execute_result"
    }
   ],
   "source": [
    "data = vdata.drop(['Unnamed: 0'], axis = 1)\n",
    "\n",
    "data.isnull().sum()"
   ]
  },
  {
   "cell_type": "code",
   "execution_count": 4,
   "metadata": {
    "colab": {
     "base_uri": "https://localhost:8080/"
    },
    "id": "ggEawRJ-yhMR",
    "outputId": "e2a529b1-2092-4bd4-cfb2-e4bb0fedb2f4"
   },
   "outputs": [
    {
     "name": "stdout",
     "output_type": "stream",
     "text": [
      "(10333, 4)\n",
      "(9999, 4)\n"
     ]
    }
   ],
   "source": [
    "print(data.shape)\n",
    "data = data.dropna(how='any')\n",
    "print(data.shape)"
   ]
  },
  {
   "cell_type": "code",
   "execution_count": 5,
   "metadata": {
    "id": "4pBoFIaKy3o-"
   },
   "outputs": [],
   "source": [
    "# nltk.download('stopwords')\n",
    "# nltk.download('wordnet')"
   ]
  },
  {
   "cell_type": "code",
   "execution_count": 6,
   "metadata": {
    "id": "KgrO3qxzyx-2"
   },
   "outputs": [],
   "source": [
    "stop_words = set(stopwords.words('english'))\n",
    "##Creating a list of custom stopwords\n",
    "new_words = [\"fig\",\"figure\",\"image\",\"sample\",\"using\", \n",
    "             \"show\", \"result\", \"large\", \n",
    "             \"also\", \"one\", \"two\", \"three\", \n",
    "             \"four\", \"five\", \"seven\",\"eight\",\"nine\"]\n",
    "stop_words = list(stop_words.union(new_words))"
   ]
  },
  {
   "cell_type": "code",
   "execution_count": 7,
   "metadata": {
    "id": "AVlQGaoty6-N"
   },
   "outputs": [],
   "source": [
    "def pre_process(text):\n",
    "    \n",
    "    # lowercase\n",
    "    text=text.lower()\n",
    "    \n",
    "    #remove tags\n",
    "    text=re.sub(\"&lt;/?.*?&gt;\",\" &lt;&gt; \",text)\n",
    "    \n",
    "    # remove special characters and digits\n",
    "    text=re.sub(\"(\\\\d|\\\\W)+\",\" \",text)\n",
    "    \n",
    "    ##Convert to list from string\n",
    "    text = text.split()\n",
    "    \n",
    "    # remove stopwords\n",
    "    text = [word for word in text if word not in stop_words]\n",
    "\n",
    "    # remove words less than three letters\n",
    "    text = [word for word in text if len(word) >= 3]\n",
    "\n",
    "    # lemmatize\n",
    "    lmtzr = WordNetLemmatizer()\n",
    "    text = [lmtzr.lemmatize(word, \"v\") for word in text]\n",
    "    \n",
    "    return ' '.join(text)"
   ]
  },
  {
   "cell_type": "code",
   "execution_count": 8,
   "metadata": {
    "id": "tORlgWAqzD_e"
   },
   "outputs": [],
   "source": [
    "# The frac keyword argument specifies the fraction of rows to return in the random sample\n",
    "# specifying drop=True prevents .reset_index from creating a column containing the old index entries.\n",
    "data = data.sample(frac=1).reset_index(drop=True)\n",
    "docs = pd.DataFrame()\n",
    "docs['Title'] = data['Title'].iloc[:5000].apply(lambda x:pre_process(x))\n",
    "docs['Description'] = data['Description'].iloc[:5000].apply(lambda x:pre_process(x))"
   ]
  },
  {
   "cell_type": "code",
   "execution_count": 9,
   "metadata": {
    "colab": {
     "base_uri": "https://localhost:8080/",
     "height": 206
    },
    "id": "HDVZNEhQzXo7",
    "outputId": "139642db-3bd7-464e-a6d6-bea512359042"
   },
   "outputs": [
    {
     "data": {
      "text/html": [
       "<div>\n",
       "<style scoped>\n",
       "    .dataframe tbody tr th:only-of-type {\n",
       "        vertical-align: middle;\n",
       "    }\n",
       "\n",
       "    .dataframe tbody tr th {\n",
       "        vertical-align: top;\n",
       "    }\n",
       "\n",
       "    .dataframe thead th {\n",
       "        text-align: right;\n",
       "    }\n",
       "</style>\n",
       "<table border=\"1\" class=\"dataframe\">\n",
       "  <thead>\n",
       "    <tr style=\"text-align: right;\">\n",
       "      <th></th>\n",
       "      <th>Title</th>\n",
       "      <th>Description</th>\n",
       "    </tr>\n",
       "  </thead>\n",
       "  <tbody>\n",
       "    <tr>\n",
       "      <th>0</th>\n",
       "      <td>forbid history documentary astound ancient arc...</td>\n",
       "      <td>long record history advance civilization prese...</td>\n",
       "    </tr>\n",
       "    <tr>\n",
       "      <th>1</th>\n",
       "      <td>travel vlog krabi thailand jan kharina</td>\n",
       "      <td>blog thats take wayyyyyyy long post hope love ...</td>\n",
       "    </tr>\n",
       "    <tr>\n",
       "      <th>2</th>\n",
       "      <td>reason travel blog fail amp ways prevent</td>\n",
       "      <td>reason travel blog fail ways prevent feel like...</td>\n",
       "    </tr>\n",
       "    <tr>\n",
       "      <th>3</th>\n",
       "      <td>manhattan theatre club</td>\n",
       "      <td>dynamic leadership artistic director lynne mea...</td>\n",
       "    </tr>\n",
       "    <tr>\n",
       "      <th>4</th>\n",
       "      <td>roy ayers live brewhouse theatre full concert</td>\n",
       "      <td>feel free donate https www paypal fredericsche...</td>\n",
       "    </tr>\n",
       "  </tbody>\n",
       "</table>\n",
       "</div>"
      ],
      "text/plain": [
       "                                               Title  \\\n",
       "0  forbid history documentary astound ancient arc...   \n",
       "1             travel vlog krabi thailand jan kharina   \n",
       "2           reason travel blog fail amp ways prevent   \n",
       "3                             manhattan theatre club   \n",
       "4      roy ayers live brewhouse theatre full concert   \n",
       "\n",
       "                                         Description  \n",
       "0  long record history advance civilization prese...  \n",
       "1  blog thats take wayyyyyyy long post hope love ...  \n",
       "2  reason travel blog fail ways prevent feel like...  \n",
       "3  dynamic leadership artistic director lynne mea...  \n",
       "4  feel free donate https www paypal fredericsche...  "
      ]
     },
     "execution_count": 9,
     "metadata": {},
     "output_type": "execute_result"
    }
   ],
   "source": [
    "docs.head()"
   ]
  },
  {
   "cell_type": "code",
   "execution_count": 10,
   "metadata": {
    "colab": {
     "base_uri": "https://localhost:8080/"
    },
    "id": "Vpsai3eWzbpM",
    "outputId": "8308da01-ff83-418a-f387-a8228a52a799"
   },
   "outputs": [
    {
     "data": {
      "text/plain": [
       "classes\n",
       "science and technology    865\n",
       "food                      835\n",
       "manufacturing             833\n",
       "travel                    829\n",
       "history                   828\n",
       "art and music             810\n",
       "Name: count, dtype: int64"
      ]
     },
     "execution_count": 10,
     "metadata": {},
     "output_type": "execute_result"
    }
   ],
   "source": [
    "# Label encoding the classes\n",
    "\n",
    "docs['classes'] = data['Category']\n",
    "docs['classes'].value_counts()"
   ]
  },
  {
   "cell_type": "code",
   "execution_count": 11,
   "metadata": {
    "colab": {
     "base_uri": "https://localhost:8080/",
     "height": 206
    },
    "id": "0MVM27ni0TXk",
    "outputId": "0d2d574a-99f2-4014-a7a4-5bd7f746dc22"
   },
   "outputs": [
    {
     "data": {
      "text/html": [
       "<div>\n",
       "<style scoped>\n",
       "    .dataframe tbody tr th:only-of-type {\n",
       "        vertical-align: middle;\n",
       "    }\n",
       "\n",
       "    .dataframe tbody tr th {\n",
       "        vertical-align: top;\n",
       "    }\n",
       "\n",
       "    .dataframe thead th {\n",
       "        text-align: right;\n",
       "    }\n",
       "</style>\n",
       "<table border=\"1\" class=\"dataframe\">\n",
       "  <thead>\n",
       "    <tr style=\"text-align: right;\">\n",
       "      <th></th>\n",
       "      <th>Title</th>\n",
       "      <th>Description</th>\n",
       "      <th>classes</th>\n",
       "    </tr>\n",
       "  </thead>\n",
       "  <tbody>\n",
       "    <tr>\n",
       "      <th>0</th>\n",
       "      <td>forbid history documentary astound ancient arc...</td>\n",
       "      <td>long record history advance civilization prese...</td>\n",
       "      <td>2</td>\n",
       "    </tr>\n",
       "    <tr>\n",
       "      <th>1</th>\n",
       "      <td>travel vlog krabi thailand jan kharina</td>\n",
       "      <td>blog thats take wayyyyyyy long post hope love ...</td>\n",
       "      <td>5</td>\n",
       "    </tr>\n",
       "    <tr>\n",
       "      <th>2</th>\n",
       "      <td>reason travel blog fail amp ways prevent</td>\n",
       "      <td>reason travel blog fail ways prevent feel like...</td>\n",
       "      <td>5</td>\n",
       "    </tr>\n",
       "    <tr>\n",
       "      <th>3</th>\n",
       "      <td>manhattan theatre club</td>\n",
       "      <td>dynamic leadership artistic director lynne mea...</td>\n",
       "      <td>0</td>\n",
       "    </tr>\n",
       "    <tr>\n",
       "      <th>4</th>\n",
       "      <td>roy ayers live brewhouse theatre full concert</td>\n",
       "      <td>feel free donate https www paypal fredericsche...</td>\n",
       "      <td>0</td>\n",
       "    </tr>\n",
       "  </tbody>\n",
       "</table>\n",
       "</div>"
      ],
      "text/plain": [
       "                                               Title  \\\n",
       "0  forbid history documentary astound ancient arc...   \n",
       "1             travel vlog krabi thailand jan kharina   \n",
       "2           reason travel blog fail amp ways prevent   \n",
       "3                             manhattan theatre club   \n",
       "4      roy ayers live brewhouse theatre full concert   \n",
       "\n",
       "                                         Description  classes  \n",
       "0  long record history advance civilization prese...        2  \n",
       "1  blog thats take wayyyyyyy long post hope love ...        5  \n",
       "2  reason travel blog fail ways prevent feel like...        5  \n",
       "3  dynamic leadership artistic director lynne mea...        0  \n",
       "4  feel free donate https www paypal fredericsche...        0  "
      ]
     },
     "execution_count": 11,
     "metadata": {},
     "output_type": "execute_result"
    }
   ],
   "source": [
    "# Encode classes\n",
    "from sklearn.preprocessing import LabelEncoder\n",
    "le = LabelEncoder()\n",
    "le.fit(docs['classes'])\n",
    "docs['classes'] = le.transform(docs['classes'])\n",
    "docs.head()"
   ]
  },
  {
   "cell_type": "code",
   "execution_count": 24,
   "metadata": {
    "colab": {
     "base_uri": "https://localhost:8080/"
    },
    "id": "51NML1VoMrpL",
    "outputId": "263242e6-523b-4180-94ad-7916a6d6d9dd"
   },
   "outputs": [
    {
     "data": {
      "text/plain": [
       "array(['art and music', 'food', 'history', 'manufacturing',\n",
       "       'science and technology', 'travel'], dtype=object)"
      ]
     },
     "execution_count": 24,
     "metadata": {},
     "output_type": "execute_result"
    }
   ],
   "source": [
    "le.classes_\n",
    "# art and music -> 0, food -> 1, and so on."
   ]
  },
  {
   "cell_type": "code",
   "execution_count": 13,
   "metadata": {
    "colab": {
     "base_uri": "https://localhost:8080/"
    },
    "id": "EqOmjlXU1209",
    "outputId": "b821e5d2-8096-41b7-d67e-dafbe99d1125"
   },
   "outputs": [
    {
     "data": {
      "text/plain": [
       "classes\n",
       "4    865\n",
       "1    835\n",
       "3    833\n",
       "5    829\n",
       "2    828\n",
       "0    810\n",
       "Name: count, dtype: int64"
      ]
     },
     "execution_count": 13,
     "metadata": {},
     "output_type": "execute_result"
    }
   ],
   "source": [
    "docs['classes'].value_counts()"
   ]
  },
  {
   "cell_type": "code",
   "execution_count": 14,
   "metadata": {
    "colab": {
     "base_uri": "https://localhost:8080/"
    },
    "id": "S3vkk1Gn08US",
    "outputId": "06260e30-d757-4292-a773-06d24f814790"
   },
   "outputs": [
    {
     "name": "stdout",
     "output_type": "stream",
     "text": [
      "Title Features Shape: (5000, 1277)\n",
      "Description Features Shape: (5000, 2687)\n"
     ]
    }
   ],
   "source": [
    "# Vectorizing text features using TF-IDF\n",
    "\n",
    "from sklearn.feature_extraction.text import TfidfVectorizer\n",
    "\n",
    "tfidf_title = TfidfVectorizer(sublinear_tf=True, min_df=5, norm='l2', encoding='latin-1', ngram_range=(1, 2), stop_words='english')\n",
    "tfidf_desc = TfidfVectorizer(sublinear_tf=True, min_df=5, norm='l2', encoding='latin-1', ngram_range=(1, 2), stop_words='english')\n",
    "labels = docs['classes']\n",
    "features_title = tfidf_title.fit_transform(docs['Title']).toarray()\n",
    "features_description = tfidf_desc.fit_transform(docs['Description']).toarray()\n",
    "print('Title Features Shape: ' + str(features_title.shape))\n",
    "print('Description Features Shape: ' + str(features_description.shape))"
   ]
  },
  {
   "cell_type": "code",
   "execution_count": 15,
   "metadata": {
    "colab": {
     "base_uri": "https://localhost:8080/"
    },
    "id": "PbuRXGub1uDF",
    "outputId": "37d6ffa6-034a-4457-eb95-30fd54520afd"
   },
   "outputs": [
    {
     "name": "stdout",
     "output_type": "stream",
     "text": [
      "Found 16319 unique tokens.\n",
      "Shape of data tensor: (5000, 50)\n",
      "Shape of label tensor: (5000, 6)\n"
     ]
    }
   ],
   "source": [
    "from keras.preprocessing.text import Tokenizer\n",
    "from keras.preprocessing.sequence import pad_sequences\n",
    "from keras.models import Sequential\n",
    "from keras.layers import Dense, Embedding, LSTM, SpatialDropout1D\n",
    "from keras.utils import to_categorical\n",
    "from sklearn.model_selection import train_test_split\n",
    "\n",
    "# The maximum number of words to be used. (most frequent)\n",
    "MAX_NB_WORDS = 10000\n",
    "# Max number of words in each complaint.\n",
    "MAX_SEQUENCE_LENGTH = 50\n",
    "# This is fixed.\n",
    "EMBEDDING_DIM = 100\n",
    "\n",
    "# Combining titles and descriptions into a single sentence\n",
    "titles = docs['Title'].values\n",
    "descriptions = docs['Description'].values\n",
    "data_for_lstms = []\n",
    "for i in range(len(titles)):\n",
    "    temp_list = [titles[i], descriptions[i]]\n",
    "    data_for_lstms.append(' '.join(temp_list))\n",
    "\n",
    "tokenizer = Tokenizer(num_words=MAX_NB_WORDS, filters='!\"#$%&()*+,-./:;<=>?@[\\]^_`{|}~', lower=True)\n",
    "tokenizer.fit_on_texts(data_for_lstms)\n",
    "word_index = tokenizer.word_index\n",
    "print('Found %s unique tokens.' % len(word_index))\n",
    "\n",
    "# Convert the data to padded sequences\n",
    "X = tokenizer.texts_to_sequences(data_for_lstms)\n",
    "X = pad_sequences(X, maxlen=MAX_SEQUENCE_LENGTH)\n",
    "print('Shape of data tensor:', X.shape)\n",
    "\n",
    "# One-hot Encode labels\n",
    "Y = pd.get_dummies(docs['classes']).values\n",
    "print('Shape of label tensor:', Y.shape)\n",
    "\n",
    "# Splitting into training and test set\n",
    "X_train, X_test, Y_train, Y_test = train_test_split(X,Y, random_state = 42)"
   ]
  },
  {
   "cell_type": "code",
   "execution_count": 16,
   "metadata": {
    "colab": {
     "base_uri": "https://localhost:8080/"
    },
    "id": "EFfcOQydGfLT",
    "outputId": "8f32b7e6-e679-439d-d0a4-dbed75c02b39"
   },
   "outputs": [
    {
     "data": {
      "text/plain": [
       "array(['forbid history documentary astound ancient archaeology discoveries',\n",
       "       'travel vlog krabi thailand jan kharina',\n",
       "       'reason travel blog fail amp ways prevent',\n",
       "       'manhattan theatre club'], dtype=object)"
      ]
     },
     "execution_count": 16,
     "metadata": {},
     "output_type": "execute_result"
    }
   ],
   "source": [
    "titles[0:4]"
   ]
  },
  {
   "cell_type": "code",
   "execution_count": 17,
   "metadata": {
    "colab": {
     "base_uri": "https://localhost:8080/"
    },
    "id": "lP70xgYXGVer",
    "outputId": "0777fea5-7edb-4876-b591-08de0baf1bd1"
   },
   "outputs": [
    {
     "data": {
      "text/plain": [
       "['forbid history documentary astound ancient archaeology discoveries long record history advance civilization present earth clearly access advance technology thousands years',\n",
       " 'travel vlog krabi thailand jan kharina blog thats take wayyyyyyy long post hope love much',\n",
       " 'reason travel blog fail amp ways prevent reason travel blog fail ways prevent feel like everyone days interest travel blogger around new year',\n",
       " 'manhattan theatre club dynamic leadership artistic director lynne meadow executive producer barry grove manhattan theatre club grow half']"
      ]
     },
     "execution_count": 17,
     "metadata": {},
     "output_type": "execute_result"
    }
   ],
   "source": [
    "data_for_lstms[0:4]"
   ]
  },
  {
   "cell_type": "code",
   "execution_count": 18,
   "metadata": {
    "colab": {
     "base_uri": "https://localhost:8080/"
    },
    "id": "5BG5BvVd4YbS",
    "outputId": "c048b717-ccd9-4a1a-d8b7-4e63064f83a6"
   },
   "outputs": [
    {
     "name": "stdout",
     "output_type": "stream",
     "text": [
      "Model: \"sequential\"\n",
      "_________________________________________________________________\n",
      " Layer (type)                Output Shape              Param #   \n",
      "=================================================================\n",
      " embedding (Embedding)       (None, 50, 100)           1000000   \n",
      "                                                                 \n",
      " spatial_dropout1d (Spatial  (None, 50, 100)           0         \n",
      " Dropout1D)                                                      \n",
      "                                                                 \n",
      " lstm (LSTM)                 (None, 100)               80400     \n",
      "                                                                 \n",
      " dense (Dense)               (None, 6)                 606       \n",
      "                                                                 \n",
      "=================================================================\n",
      "Total params: 1081006 (4.12 MB)\n",
      "Trainable params: 1081006 (4.12 MB)\n",
      "Non-trainable params: 0 (0.00 Byte)\n",
      "_________________________________________________________________\n",
      "None\n"
     ]
    }
   ],
   "source": [
    "# Define LSTM Model\n",
    "model = Sequential()\n",
    "model.add(Embedding(MAX_NB_WORDS, EMBEDDING_DIM, input_length=X.shape[1]))\n",
    "model.add(SpatialDropout1D(0.2))\n",
    "model.add(LSTM(100, dropout=0.2, recurrent_dropout=0.2))\n",
    "model.add(Dense(6, activation='softmax'))\n",
    "model.compile(loss='categorical_crossentropy', optimizer='adam', metrics=['accuracy'])\n",
    "print(model.summary())"
   ]
  },
  {
   "cell_type": "code",
   "execution_count": 19,
   "metadata": {
    "colab": {
     "base_uri": "https://localhost:8080/"
    },
    "id": "0_fPOghV4tex",
    "outputId": "6d0d7b4b-3419-4805-ccc1-3ff9d2ad6287"
   },
   "outputs": [
    {
     "name": "stdout",
     "output_type": "stream",
     "text": [
      "Epoch 1/10\n",
      "24/24 [==============================] - 16s 415ms/step - loss: 1.7632 - accuracy: 0.3390 - val_loss: 1.6440 - val_accuracy: 0.4893\n",
      "Epoch 2/10\n",
      "24/24 [==============================] - 8s 326ms/step - loss: 1.4158 - accuracy: 0.5607 - val_loss: 0.9496 - val_accuracy: 0.8720\n",
      "Epoch 3/10\n",
      "24/24 [==============================] - 8s 338ms/step - loss: 0.5109 - accuracy: 0.8707 - val_loss: 0.3342 - val_accuracy: 0.9280\n",
      "Epoch 4/10\n",
      "24/24 [==============================] - 8s 346ms/step - loss: 0.1245 - accuracy: 0.9730 - val_loss: 0.2226 - val_accuracy: 0.9573\n",
      "Epoch 5/10\n",
      "24/24 [==============================] - 8s 336ms/step - loss: 0.0495 - accuracy: 0.9913 - val_loss: 0.1712 - val_accuracy: 0.9627\n",
      "Epoch 6/10\n",
      "24/24 [==============================] - 8s 335ms/step - loss: 0.0295 - accuracy: 0.9967 - val_loss: 0.1457 - val_accuracy: 0.9667\n",
      "Epoch 7/10\n",
      "24/24 [==============================] - 8s 316ms/step - loss: 0.0177 - accuracy: 0.9987 - val_loss: 0.1169 - val_accuracy: 0.9760\n",
      "Epoch 8/10\n",
      "24/24 [==============================] - 8s 340ms/step - loss: 0.0134 - accuracy: 0.9990 - val_loss: 0.1337 - val_accuracy: 0.9733\n",
      "Epoch 9/10\n",
      "24/24 [==============================] - 8s 318ms/step - loss: 0.0105 - accuracy: 0.9993 - val_loss: 0.1423 - val_accuracy: 0.9707\n",
      "Epoch 10/10\n",
      "24/24 [==============================] - 8s 335ms/step - loss: 0.0084 - accuracy: 0.9990 - val_loss: 0.1238 - val_accuracy: 0.9760\n"
     ]
    }
   ],
   "source": [
    "# Training LSTM Model\n",
    "epochs = 10\n",
    "batch_size = 128\n",
    "\n",
    "history = model.fit(X_train, Y_train, epochs=epochs, batch_size=batch_size,validation_split=0.2)"
   ]
  },
  {
   "cell_type": "code",
   "execution_count": 20,
   "metadata": {
    "colab": {
     "base_uri": "https://localhost:8080/",
     "height": 281
    },
    "id": "psSrrisr4ys3",
    "outputId": "2ab08607-fcc2-4109-9bdb-6c55d1e7d237"
   },
   "outputs": [
    {
     "data": {
      "image/png": "[encoded data removed]",
      "text/plain": [
       "<Figure size 640x480 with 1 Axes>"
      ]
     },
     "metadata": {},
     "output_type": "display_data"
    }
   ],
   "source": [
    "plt.title('Loss')\n",
    "plt.plot(history.history['loss'], label='train')\n",
    "plt.plot(history.history['val_loss'], label='test')\n",
    "plt.legend()\n",
    "plt.show()"
   ]
  },
  {
   "cell_type": "code",
   "execution_count": 21,
   "metadata": {
    "colab": {
     "base_uri": "https://localhost:8080/",
     "height": 281
    },
    "id": "5k-GuJsg5FCh",
    "outputId": "480523b5-3327-4eec-9fa3-49125395bc8c"
   },
   "outputs": [
    {
     "data": {
      "image/png": "[encoded data removed]",
      "text/plain": [
       "<Figure size 640x480 with 1 Axes>"
      ]
     },
     "metadata": {},
     "output_type": "display_data"
    }
   ],
   "source": [
    "plt.title('Accuracy')\n",
    "plt.plot(history.history['accuracy'], label='train')\n",
    "plt.plot(history.history['val_accuracy'], label='test')\n",
    "plt.legend()\n",
    "plt.show()"
   ]
  },
  {
   "cell_type": "code",
   "execution_count": 22,
   "metadata": {
    "id": "gRks2h_U5Vvq"
   },
   "outputs": [
    {
     "name": "stderr",
     "output_type": "stream",
     "text": [
      "C:\\Users\\USER\\anaconda3\\envs\\DataFrame\\Lib\\site-packages\\keras\\src\\engine\\training.py:3000: UserWarning: You are saving your model as an HDF5 file via `model.save()`. This file format is considered legacy. We recommend using instead the native Keras format, e.g. `model.save('my_model.keras')`.\n",
      "  saving_api.save_model(\n"
     ]
    }
   ],
   "source": [
    "# Saving the tokenizer and the model:\n",
    "\n",
    "import pickle\n",
    "\n",
    "pickle.dump(tokenizer, open(r'C:\\Users\\USER\\Python Files\\video_classification-tokenizer.pkl', 'wb'))\n",
    "model.save(r'C:\\Users\\USER\\Python Files\\video_classification-model.h5')"
   ]
  },
  {
   "cell_type": "code",
   "execution_count": null,
   "metadata": {
    "id": "ZwiTRoDu52RR"
   },
   "outputs": [],
   "source": []
  }
 ],
 "metadata": {
  "colab": {
   "collapsed_sections": [],
   "name": "Video classification.ipynb",
   "provenance": []
  },
  "kernelspec": {
   "display_name": "Python 3 (ipykernel)",
   "language": "python",
   "name": "python3"
  },
  "language_info": {
   "codemirror_mode": {
    "name": "ipython",
    "version": 3
   },
   "file_extension": ".py",
   "mimetype": "text/x-python",
   "name": "python",
   "nbconvert_exporter": "python",
   "pygments_lexer": "ipython3",
   "version": "3.11.5"
  }
 },
 "nbformat": 4,
 "nbformat_minor": 1
}
